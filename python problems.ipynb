{
 "cells": [
  {
   "cell_type": "code",
   "execution_count": 1,
   "id": "362d3f62-7bd5-4371-8722-5deca422d969",
   "metadata": {},
   "outputs": [],
   "source": [
    "#Problems on Arithmetic, bitwise, logical, and other operators."
   ]
  },
  {
   "cell_type": "code",
   "execution_count": 1,
   "id": "fa374a12-1167-4f53-9f2f-057f5beac818",
   "metadata": {},
   "outputs": [],
   "source": [
    "1. \tWithout using **, calculate the cube of a number x."
   ]
  },
  {
   "cell_type": "code",
   "execution_count": 3,
   "id": "431f9c2f-e97c-4f23-98e0-0c63b0ca8cf0",
   "metadata": {},
   "outputs": [
    {
     "name": "stdout",
     "output_type": "stream",
     "text": [
      "64\n"
     ]
    }
   ],
   "source": [
    "def cube(n):\n",
    "    return n*n*n\n",
    "\n",
    "print(cube(4))"
   ]
  },
  {
   "cell_type": "code",
   "execution_count": null,
   "id": "ab4d368d-afa1-4563-b57c-87a8fe95fe7d",
   "metadata": {},
   "outputs": [],
   "source": [
    "2. \tCheck if a number n is within 10 units of 100 using a single expression."
   ]
  },
  {
   "cell_type": "code",
   "execution_count": 4,
   "id": "28bb56d2-d835-4937-9f7d-076e290994d9",
   "metadata": {},
   "outputs": [
    {
     "name": "stdout",
     "output_type": "stream",
     "text": [
      "True\n"
     ]
    }
   ],
   "source": [
    "def result(n):\n",
    "    return abs(100-n)<=10\n",
    "\n",
    "print(result(108))"
   ]
  },
  {
   "cell_type": "code",
   "execution_count": null,
   "id": "d5bc344e-38db-45de-a373-0f2004c4504a",
   "metadata": {},
   "outputs": [],
   "source": [
    "3. \tUsing bitwise operators, determine if an integer n is odd."
   ]
  },
  {
   "cell_type": "code",
   "execution_count": 5,
   "id": "703a5653-ca08-4080-9ab7-e3a6100af55c",
   "metadata": {},
   "outputs": [
    {
     "name": "stdout",
     "output_type": "stream",
     "text": [
      "True\n"
     ]
    }
   ],
   "source": [
    "def result(n):\n",
    "    return (n&1)==1\n",
    "\n",
    "print(result(11))"
   ]
  },
  {
   "cell_type": "code",
   "execution_count": null,
   "id": "91edd8de-de43-4457-a9bf-2a4bed1ba0c6",
   "metadata": {},
   "outputs": [],
   "source": [
    "4. \tReverse the bits of a 32-bit unsigned integer n"
   ]
  },
  {
   "cell_type": "code",
   "execution_count": 9,
   "id": "3c00050d-e962-43e1-8a75-938e5bb6104d",
   "metadata": {},
   "outputs": [],
   "source": [
    "def reverse(n):\n",
    "    return int('{:32b}'.format(n)[::-1],2)"
   ]
  },
  {
   "cell_type": "code",
   "execution_count": 8,
   "id": "46f0d42d-88a4-4c1e-80ae-9ea3d13dc093",
   "metadata": {},
   "outputs": [],
   "source": [
    "#5. \tSwap two variables a and b using arithmetic operators."
   ]
  },
  {
   "cell_type": "code",
   "execution_count": 10,
   "id": "25c04937-3628-4a95-848d-ad16e8d3f6c6",
   "metadata": {},
   "outputs": [
    {
     "name": "stdout",
     "output_type": "stream",
     "text": [
      "a = 24\n",
      "b = 12\n"
     ]
    }
   ],
   "source": [
    "a=12\n",
    "b=24\n",
    "a=a+b\n",
    "b=a-b\n",
    "a=a-b\n",
    "print(\"a =\",a)\n",
    "print(\"b =\",b)"
   ]
  },
  {
   "cell_type": "code",
   "execution_count": null,
   "id": "af5bcb83-5f4a-4b7c-b5ab-11700bf366e1",
   "metadata": {},
   "outputs": [],
   "source": [
    "6. \tDetermine if two float numbers a and b are approximately equal (within 0.001)."
   ]
  },
  {
   "cell_type": "code",
   "execution_count": null,
   "id": "e471cec6-1564-4e7b-9683-6337cac902d3",
   "metadata": {},
   "outputs": [],
   "source": [
    "7.\tUsing logical operators, check if a string s is non-empty and starts with an uppercase letter."
   ]
  },
  {
   "cell_type": "code",
   "execution_count": 11,
   "id": "c8a0140c-af7b-4e69-a784-df28b11f9226",
   "metadata": {},
   "outputs": [
    {
     "data": {
      "text/plain": [
       "True"
      ]
     },
     "execution_count": 11,
     "metadata": {},
     "output_type": "execute_result"
    }
   ],
   "source": [
    "s = \"Hello world\" \n",
    "if bool(s) and s[0].isupper():\n",
    "    result = True\n",
    "else:\n",
    "    result = False\n",
    "\n",
    "result"
   ]
  },
  {
   "cell_type": "code",
   "execution_count": null,
   "id": "01b8023b-dcd3-4ecc-8a84-9691d639b83e",
   "metadata": {},
   "outputs": [],
   "source": [
    "8.\tImplement a bitwise XOR operation on two boolean values x and y."
   ]
  },
  {
   "cell_type": "code",
   "execution_count": 12,
   "id": "6da16e41-d95b-4654-b708-ae73fc422dee",
   "metadata": {},
   "outputs": [
    {
     "name": "stdout",
     "output_type": "stream",
     "text": [
      "True\n"
     ]
    }
   ],
   "source": [
    "def xor_operation(x,y):\n",
    "    return x^y\n",
    "print(xor_operation(True,False))"
   ]
  },
  {
   "cell_type": "code",
   "execution_count": null,
   "id": "1b7e08fd-29b0-4496-80e2-63a1db27e376",
   "metadata": {},
   "outputs": [],
   "source": [
    "9.\tWithout using the division operator /, divide a number n by 2."
   ]
  },
  {
   "cell_type": "code",
   "execution_count": 13,
   "id": "7418ef57-d329-4a2c-b602-085b8c7365dd",
   "metadata": {},
   "outputs": [
    {
     "name": "stdout",
     "output_type": "stream",
     "text": [
      "12\n"
     ]
    }
   ],
   "source": [
    "def division(n):\n",
    "    return int(n*0.5)\n",
    "print(division(24))"
   ]
  },
  {
   "cell_type": "code",
   "execution_count": null,
   "id": "1d3a77a2-d930-4ffe-94d4-31ecd30e0783",
   "metadata": {},
   "outputs": [],
   "source": [
    "10.\tCheck if a number n is a power of two using bitwise operators."
   ]
  },
  {
   "cell_type": "code",
   "execution_count": 14,
   "id": "e0b034c2-77ee-459a-b2f5-1891b7d77f1f",
   "metadata": {},
   "outputs": [
    {
     "name": "stdout",
     "output_type": "stream",
     "text": [
      "True\n"
     ]
    }
   ],
   "source": [
    "def bitwise(n):\n",
    "    return n!=0 and (n &(n-1))==0\n",
    "\n",
    "print(bitwise(16))"
   ]
  },
  {
   "cell_type": "code",
   "execution_count": null,
   "id": "ed24aad2-83f8-47f5-9a23-3bcbb2941341",
   "metadata": {},
   "outputs": [],
   "source": []
  },
  {
   "cell_type": "code",
   "execution_count": null,
   "id": "33074d16-8c27-451f-a778-7c69764e5ee8",
   "metadata": {},
   "outputs": [],
   "source": [
    "11. Determine if the expression not (a<b) and not (a>b) is equivalent to a == b for any a and b."
   ]
  },
  {
   "cell_type": "code",
   "execution_count": 15,
   "id": "9f4e3faa-8994-44f4-ae08-728edc0a50ef",
   "metadata": {},
   "outputs": [
    {
     "name": "stdout",
     "output_type": "stream",
     "text": [
      "True\n"
     ]
    }
   ],
   "source": [
    "def check_equivalence(a,b):\n",
    "    return not (a<b) and not (a>b)\n",
    "\n",
    "print(check_equivalence(4,4))"
   ]
  },
  {
   "cell_type": "code",
   "execution_count": null,
   "id": "616cd09b-b9e5-4daa-8feb-ca2eeb2a983c",
   "metadata": {},
   "outputs": [],
   "source": [
    "12.\tCalculate the expression 3 ** 2 // 2 * 3 / 3 - 1 and explain the order of operations."
   ]
  },
  {
   "cell_type": "code",
   "execution_count": 16,
   "id": "2bf17bd6-64a9-4670-a896-204cf2909590",
   "metadata": {},
   "outputs": [
    {
     "name": "stdout",
     "output_type": "stream",
     "text": [
      "0.3870967741935484\n"
     ]
    }
   ],
   "source": [
    "value=3**2 // 2 * 3/31\n",
    "print(value)"
   ]
  },
  {
   "cell_type": "code",
   "execution_count": null,
   "id": "686080c4-0e77-4f48-904c-dcf4fedefcc0",
   "metadata": {},
   "outputs": [],
   "source": [
    "13.\tRotate the bits of the number 0b10110011 two positions to the left."
   ]
  },
  {
   "cell_type": "code",
   "execution_count": null,
   "id": "4d9f219d-0bff-494f-a432-315259bfbefa",
   "metadata": {},
   "outputs": [],
   "source": [
    "14.\tWithout running, determine the output of True * 2 + False // 3."
   ]
  },
  {
   "cell_type": "code",
   "execution_count": 2,
   "id": "c76ab9bf-b74d-4d86-86fa-a7897603aad7",
   "metadata": {},
   "outputs": [
    {
     "name": "stdout",
     "output_type": "stream",
     "text": [
      "2\n"
     ]
    }
   ],
   "source": [
    "print(True*2+False//3)  #1*2 + 0//3"
   ]
  },
  {
   "cell_type": "code",
   "execution_count": null,
   "id": "26e33652-7d6d-49be-bfeb-179cb85f642b",
   "metadata": {},
   "outputs": [],
   "source": [
    "15. Implement a basic version of the XOR operation using only AND, OR, and NOT operators."
   ]
  },
  {
   "cell_type": "code",
   "execution_count": 17,
   "id": "88d277b4-3c7c-41d9-955c-094f34b0d16a",
   "metadata": {},
   "outputs": [
    {
     "name": "stdout",
     "output_type": "stream",
     "text": [
      "True\n"
     ]
    }
   ],
   "source": [
    "def ans(a,b):\n",
    "    return (a and not b) or (not a and b)\n",
    "\n",
    "print(ans(1,0))"
   ]
  },
  {
   "cell_type": "code",
   "execution_count": null,
   "id": "fa3f800a-839e-464f-817c-4119e35fad05",
   "metadata": {},
   "outputs": [],
   "source": [
    "16. Determine if an integer n is a power of two without using loops or recursion."
   ]
  },
  {
   "cell_type": "code",
   "execution_count": 18,
   "id": "a7fc3bfa-7fdc-4040-ad38-d790e313d3e9",
   "metadata": {},
   "outputs": [
    {
     "name": "stdout",
     "output_type": "stream",
     "text": [
      "True\n"
     ]
    }
   ],
   "source": [
    "def is_pow_of_two(n):\n",
    "     return n>0 and (n&(n-1))==0\n",
    "\n",
    "print(is_pow_of_two(16))"
   ]
  },
  {
   "cell_type": "code",
   "execution_count": null,
   "id": "d8d3d9e8-02c5-43c3-87be-e91cec614243",
   "metadata": {},
   "outputs": [],
   "source": [
    "17. Swap two integers a = 3 and b = 5 without using extra space. "
   ]
  },
  {
   "cell_type": "code",
   "execution_count": 19,
   "id": "d19c372d-c9df-486a-a738-396511321e04",
   "metadata": {},
   "outputs": [
    {
     "name": "stdout",
     "output_type": "stream",
     "text": [
      "a = 5\n",
      "b = 3\n"
     ]
    }
   ],
   "source": [
    "a=3;\n",
    "b=5;\n",
    "a=a^b\n",
    "b=a^b\n",
    "a=a^b\n",
    "print(\"a =\",a)\n",
    "print(\"b =\",b)"
   ]
  },
  {
   "cell_type": "code",
   "execution_count": null,
   "id": "8c8bf7c4-7069-47da-a4a3-e0a9b7758e1a",
   "metadata": {},
   "outputs": [],
   "source": [
    "18. Check if two numbers, a = 4 and b = 9, have opposite signs using bitwise operators."
   ]
  },
  {
   "cell_type": "code",
   "execution_count": 20,
   "id": "f1665929-0f24-4b0c-81c3-f894480a85eb",
   "metadata": {},
   "outputs": [
    {
     "data": {
      "text/plain": [
       "True"
      ]
     },
     "execution_count": 20,
     "metadata": {},
     "output_type": "execute_result"
    }
   ],
   "source": [
    "a=4\n",
    "b=-5\n",
    "(a^b)<0"
   ]
  },
  {
   "cell_type": "code",
   "execution_count": null,
   "id": "73ba621d-88fb-4231-9b27-d00d8eea6533",
   "metadata": {},
   "outputs": [],
   "source": [
    "19. Reverse the bits of an 8-bit binary number, 0b11010100."
   ]
  },
  {
   "cell_type": "code",
   "execution_count": null,
   "id": "99c7a7f7-97b5-4922-b5b8-43a71fdebe71",
   "metadata": {},
   "outputs": [],
   "source": [
    "20. Calculate the remainder of 1234 divided by 100 without using the % operator."
   ]
  },
  {
   "cell_type": "code",
   "execution_count": 21,
   "id": "3176fe65-68ce-4da5-8ccd-51147919d58f",
   "metadata": {},
   "outputs": [
    {
     "data": {
      "text/plain": [
       "34"
      ]
     },
     "execution_count": 21,
     "metadata": {},
     "output_type": "execute_result"
    }
   ],
   "source": [
    "a = 1234\n",
    "b = 100\n",
    "remainder = a - (b * (a // b))\n",
    "remainder"
   ]
  },
  {
   "cell_type": "code",
   "execution_count": null,
   "id": "429939c8-7a18-42fe-9d6c-d03c31dd5dd4",
   "metadata": {},
   "outputs": [],
   "source": [
    "Practice problems on boolean expressions and logic. \n",
    "\n",
    "Problems on boolean operations, conditional statements, and logical expressions.\n",
    "\n"
   ]
  },
  {
   "cell_type": "code",
   "execution_count": null,
   "id": "39fb56fb-65e8-4697-bf06-294d4b597763",
   "metadata": {},
   "outputs": [],
   "source": [
    "1. Determine if the sum of two integers is even without using the % operator."
   ]
  },
  {
   "cell_type": "code",
   "execution_count": 1,
   "id": "9e248f1d-44ec-4f4b-80d1-5871fb0f275c",
   "metadata": {},
   "outputs": [
    {
     "name": "stdout",
     "output_type": "stream",
     "text": [
      "True\n"
     ]
    }
   ],
   "source": [
    "def sum(x,y):\n",
    "    s=x+y\n",
    "    return (s&1)!=1\n",
    "\n",
    "print(sum(12,90))"
   ]
  },
  {
   "cell_type": "code",
   "execution_count": null,
   "id": "5b3e9def-44cb-47dd-a250-1031e8c5c26b",
   "metadata": {},
   "outputs": [],
   "source": [
    "2. Check if a number is both positive and even."
   ]
  },
  {
   "cell_type": "code",
   "execution_count": 22,
   "id": "1f4cfdc2-8656-4fd6-9d6a-afa1ae4dd2d2",
   "metadata": {},
   "outputs": [
    {
     "name": "stdout",
     "output_type": "stream",
     "text": [
      "True\n"
     ]
    }
   ],
   "source": [
    "def posi_even(n):\n",
    "    return n>0 and (n&1)!=1\n",
    "\n",
    "print(posi_even(12))"
   ]
  },
  {
   "cell_type": "code",
   "execution_count": null,
   "id": "ad8f8235-5abf-40e8-a019-fbb2291f2258",
   "metadata": {},
   "outputs": [],
   "source": [
    "3. Determine if the XOR of two boolean values is true."
   ]
  },
  {
   "cell_type": "code",
   "execution_count": 23,
   "id": "2c72a876-a30f-4917-8222-7f0ce085d024",
   "metadata": {},
   "outputs": [
    {
     "name": "stdout",
     "output_type": "stream",
     "text": [
      "True\n"
     ]
    }
   ],
   "source": [
    "def ans(x,y):\n",
    "    return x^y\n",
    "\n",
    "print(ans(True,False))"
   ]
  },
  {
   "cell_type": "code",
   "execution_count": null,
   "id": "312874a1-3a42-4a7f-b274-3227ee8cc71a",
   "metadata": {},
   "outputs": [],
   "source": [
    "4. Check if a list is not empty and its first element is True."
   ]
  },
  {
   "cell_type": "code",
   "execution_count": 24,
   "id": "c3474fec-6851-4578-9bfc-ec1eea11b678",
   "metadata": {},
   "outputs": [
    {
     "name": "stdout",
     "output_type": "stream",
     "text": [
      "True\n"
     ]
    }
   ],
   "source": [
    "def first_element(a):\n",
    "    return not(a and a[0]==False)\n",
    " \n",
    "l=[True,False,True,False]\n",
    "print(first_element(l))"
   ]
  },
  {
   "cell_type": "code",
   "execution_count": null,
   "id": "2dfb92a6-32f3-456c-9ef4-d20722447f40",
   "metadata": {},
   "outputs": [],
   "source": [
    "5. Verify if the integer part of a float is odd."
   ]
  },
  {
   "cell_type": "code",
   "execution_count": 25,
   "id": "ad4d3c04-f199-406c-8448-bcb71cef8e72",
   "metadata": {},
   "outputs": [
    {
     "name": "stdout",
     "output_type": "stream",
     "text": [
      "True\n"
     ]
    }
   ],
   "source": [
    "def odd(a):\n",
    "    return int(a)%2==1\n",
    " \n",
    "print(odd(11.9))"
   ]
  },
  {
   "cell_type": "code",
   "execution_count": null,
   "id": "9bde393d-ca0f-44b0-abc1-7a3bf3a27720",
   "metadata": {},
   "outputs": [],
   "source": [
    "6. Determine if at least one of three variables, a, b, c, is True."
   ]
  },
  {
   "cell_type": "code",
   "execution_count": 26,
   "id": "f2b3dae4-fdcb-439c-9f99-853a24862c11",
   "metadata": {},
   "outputs": [
    {
     "name": "stdout",
     "output_type": "stream",
     "text": [
      "True\n"
     ]
    }
   ],
   "source": [
    "def variable(a,b,c):\n",
    "    return (a or b or c)==True\n",
    "\n",
    "print(variable(True,False,True))"
   ]
  },
  {
   "cell_type": "code",
   "execution_count": null,
   "id": "d755191c-a016-428c-b256-a9c9be9f0722",
   "metadata": {},
   "outputs": [],
   "source": [
    "7. Check if a string s is non-empty and its first character is uppercase."
   ]
  },
  {
   "cell_type": "code",
   "execution_count": 27,
   "id": "bc98af3f-f991-48dd-8f4c-c3b6372f8384",
   "metadata": {},
   "outputs": [
    {
     "data": {
      "text/plain": [
       "True"
      ]
     },
     "execution_count": 27,
     "metadata": {},
     "output_type": "execute_result"
    }
   ],
   "source": [
    "s = \"Hello world\" \n",
    "if bool(s) and s[0].isupper():\n",
    "    result = True\n",
    "else:\n",
    "    result = False\n",
    "\n",
    "result"
   ]
  },
  {
   "cell_type": "code",
   "execution_count": null,
   "id": "b429a28c-9946-4c1e-9f0e-5db4514783dd",
   "metadata": {},
   "outputs": [],
   "source": [
    "8. Determine if the binary representations of two numbers are complementary."
   ]
  },
  {
   "cell_type": "code",
   "execution_count": null,
   "id": "c712e813-19e3-44b7-8b4c-eebc16020fc7",
   "metadata": {},
   "outputs": [],
   "source": [
    "9. Check if a number n is neither divisible by 2 nor 3."
   ]
  },
  {
   "cell_type": "code",
   "execution_count": 28,
   "id": "752ea2b5-f2d0-4d87-bf51-2c2eef1dec2b",
   "metadata": {},
   "outputs": [
    {
     "name": "stdout",
     "output_type": "stream",
     "text": [
      "True\n"
     ]
    }
   ],
   "source": [
    "def ans(n):\n",
    "    return n%2!=0 and n%3!=0\n",
    "\n",
    "print(ans(7))"
   ]
  },
  {
   "cell_type": "code",
   "execution_count": null,
   "id": "f2318be2-c31b-4bcd-891d-58fb03ee9829",
   "metadata": {},
   "outputs": [],
   "source": [
    "10. Determine if the length of a string s is both greater than 5 and a prime number."
   ]
  },
  {
   "cell_type": "code",
   "execution_count": 29,
   "id": "65733514-b766-4d69-9073-3eb828d3a44e",
   "metadata": {},
   "outputs": [
    {
     "name": "stdout",
     "output_type": "stream",
     "text": [
      "True\n"
     ]
    }
   ],
   "source": [
    "def greater_or_prime(n):\n",
    "    if(n>5):\n",
    "        for i in range(2, n):\n",
    "            if(n%i==0):\n",
    "                return False\n",
    "        return True     \n",
    "    else:\n",
    "        return False\n",
    "\n",
    "s=\"Hello World\"\n",
    "print(greater_or_prime(len(s)))"
   ]
  },
  {
   "cell_type": "code",
   "execution_count": null,
   "id": "2671b8c2-8001-416f-84a8-4e68fe63d51e",
   "metadata": {},
   "outputs": [],
   "source": [
    "11. Evaluate if at least two out of three booleans a, b, c are True."
   ]
  },
  {
   "cell_type": "code",
   "execution_count": 30,
   "id": "4db8e266-cad7-484c-9a54-59eb3bda293f",
   "metadata": {},
   "outputs": [
    {
     "name": "stdout",
     "output_type": "stream",
     "text": [
      "True\n"
     ]
    }
   ],
   "source": [
    "def variable(a,b,c):\n",
    "    return (a + b + c) >= 2\n",
    "\n",
    "print(variable(True,False,True))"
   ]
  },
  {
   "cell_type": "code",
   "execution_count": null,
   "id": "0f2c0f92-fdd2-44f2-a732-fe0ca00159fc",
   "metadata": {},
   "outputs": [],
   "source": [
    "12. Check if a string s is neither empty nor consists solely of whitespace characters."
   ]
  },
  {
   "cell_type": "code",
   "execution_count": null,
   "id": "e3985991-1ef7-4eac-8b32-aa1342f961a9",
   "metadata": {},
   "outputs": [],
   "source": [
    "13. Given three integers, check if they can form the sides of a right-angled triangle."
   ]
  },
  {
   "cell_type": "code",
   "execution_count": 31,
   "id": "238b2cd2-c88c-436e-95ad-c13360baf081",
   "metadata": {},
   "outputs": [
    {
     "name": "stdout",
     "output_type": "stream",
     "text": [
      "False\n"
     ]
    }
   ],
   "source": [
    "def can_form_right_triangle(a, b, c):\n",
    "    return a**2 + b**2 == c**2\n",
    "\n",
    "print(can_form_right_triangle(4, 4, 5))"
   ]
  },
  {
   "cell_type": "code",
   "execution_count": null,
   "id": "c0cf6cfd-948d-4dee-87c3-8dbc84845462",
   "metadata": {},
   "outputs": [],
   "source": [
    "14. Use a boolean expression to find if a number is in the range [5, 10] inclusive."
   ]
  },
  {
   "cell_type": "code",
   "execution_count": 32,
   "id": "d176e3eb-f21f-49fa-addf-29431d7ee406",
   "metadata": {},
   "outputs": [
    {
     "data": {
      "text/plain": [
       "False"
      ]
     },
     "execution_count": 32,
     "metadata": {},
     "output_type": "execute_result"
    }
   ],
   "source": [
    "n = 12\n",
    "ans = 5 <= n <= 10\n",
    "ans"
   ]
  },
  {
   "cell_type": "code",
   "execution_count": null,
   "id": "932b0b3e-76fe-4824-8eb5-0b9f142b525b",
   "metadata": {},
   "outputs": [],
   "source": [
    "15. Return the boolean True if a string is both alphabetic and uppercase."
   ]
  },
  {
   "cell_type": "code",
   "execution_count": 33,
   "id": "23e819bb-11a7-4a10-a8c5-d9af457ed612",
   "metadata": {},
   "outputs": [
    {
     "name": "stdout",
     "output_type": "stream",
     "text": [
      "True\n"
     ]
    }
   ],
   "source": [
    "def is_alpha_or_upper(s):\n",
    "    return s.isalpha() and s.isupper()\n",
    "\n",
    "print(is_alpha_or_upper(\"HELLO\"))"
   ]
  },
  {
   "cell_type": "code",
   "execution_count": null,
   "id": "4a67e340-3472-4b69-bea6-b41c7ff1c263",
   "metadata": {},
   "outputs": [],
   "source": [
    "16. Determine if an integer is a power of 2 using a boolean expression."
   ]
  },
  {
   "cell_type": "code",
   "execution_count": 34,
   "id": "e43446af-d62d-4916-ae72-78b2c8e7a553",
   "metadata": {},
   "outputs": [
    {
     "name": "stdout",
     "output_type": "stream",
     "text": [
      "True\n"
     ]
    }
   ],
   "source": [
    "def ans(n):\n",
    "    return n!=0 and (n &(n-1))==0\n",
    "\n",
    "print(ans(16))"
   ]
  },
  {
   "cell_type": "code",
   "execution_count": null,
   "id": "20b97637-6568-4731-84d3-104b48302aaf",
   "metadata": {},
   "outputs": [],
   "source": [
    "17.  Check if exactly one of two boolean values is True, without using the != operator."
   ]
  },
  {
   "cell_type": "code",
   "execution_count": 35,
   "id": "ee232f71-577e-4ced-a37e-69cddd230e4c",
   "metadata": {},
   "outputs": [
    {
     "name": "stdout",
     "output_type": "stream",
     "text": [
      "True\n"
     ]
    }
   ],
   "source": [
    "def ans(x,y):\n",
    "    return x^y\n",
    "\n",
    "print(ans(True,False))"
   ]
  },
  {
   "cell_type": "code",
   "execution_count": null,
   "id": "06818923-6a7b-4675-b9bf-1cabdedfe72e",
   "metadata": {},
   "outputs": [],
   "source": [
    "18. Return 'Yes' if a number is positive, otherwise 'No', in one line."
   ]
  },
  {
   "cell_type": "code",
   "execution_count": 36,
   "id": "0d15e4c9-209e-4830-a6f8-10c3de8b264c",
   "metadata": {},
   "outputs": [
    {
     "data": {
      "text/plain": [
       "'No'"
      ]
     },
     "execution_count": 36,
     "metadata": {},
     "output_type": "execute_result"
    }
   ],
   "source": [
    "n=-12\n",
    "ans='Yes' if n > 0 else 'No'\n",
    "ans"
   ]
  },
  {
   "cell_type": "code",
   "execution_count": null,
   "id": "39b412d2-e3be-4d19-92ec-f70ea350dd74",
   "metadata": {},
   "outputs": [],
   "source": [
    "19.  Check if a list is empty without using len()."
   ]
  },
  {
   "cell_type": "code",
   "execution_count": 37,
   "id": "830c40a8-0694-4434-9279-a40330155ad0",
   "metadata": {},
   "outputs": [
    {
     "name": "stdout",
     "output_type": "stream",
     "text": [
      "False\n"
     ]
    }
   ],
   "source": [
    "def isempty(l):\n",
    "    return not bool(l)\n",
    "\n",
    "print(isempty([1,2]))"
   ]
  },
  {
   "cell_type": "code",
   "execution_count": null,
   "id": "6434e850-f989-41b0-b5cf-01d5ed026c08",
   "metadata": {},
   "outputs": [],
   "source": [
    "20. Determine if the sum of two numbers is even without using the % operator."
   ]
  },
  {
   "cell_type": "code",
   "execution_count": 38,
   "id": "060e9a37-c4d4-4f03-a287-71a6f1fc9776",
   "metadata": {},
   "outputs": [
    {
     "name": "stdout",
     "output_type": "stream",
     "text": [
      "True\n"
     ]
    }
   ],
   "source": [
    "def sum(x,y):\n",
    "    s=x+y\n",
    "    return (s&1)!=1\n",
    "\n",
    "print(sum(12,90))"
   ]
  },
  {
   "cell_type": "code",
   "execution_count": null,
   "id": "4c632574-fa92-4759-95a9-9c7383769aa8",
   "metadata": {},
   "outputs": [],
   "source": []
  },
  {
   "cell_type": "code",
   "execution_count": null,
   "id": "5ecec1da-fc48-418e-bf32-35f8f33eb1ff",
   "metadata": {},
   "outputs": [],
   "source": [
    "Practice problems on string manipulation.\n",
    "\n",
    "Problems on string operations, including slicing, searching, and transformation techniques.\n",
    "\n"
   ]
  },
  {
   "cell_type": "code",
   "execution_count": null,
   "id": "8fbd7368-d57c-4834-b433-01f438767035",
   "metadata": {},
   "outputs": [],
   "source": [
    "1. Reverse the string \"hello world\" without using the [::-1] syntax."
   ]
  },
  {
   "cell_type": "code",
   "execution_count": 39,
   "id": "e2296554-71d5-4896-b06d-6c96c6daf3c9",
   "metadata": {},
   "outputs": [
    {
     "data": {
      "text/plain": [
       "'dlrow olleh'"
      ]
     },
     "execution_count": 39,
     "metadata": {},
     "output_type": "execute_result"
    }
   ],
   "source": [
    "\"\".join(reversed(\"hello world\"))"
   ]
  },
  {
   "cell_type": "code",
   "execution_count": null,
   "id": "c353ffbf-daaf-4576-a8f0-6f0ead3aa274",
   "metadata": {},
   "outputs": [],
   "source": [
    "2. Check if the string \"radar\" is a palindrome."
   ]
  },
  {
   "cell_type": "code",
   "execution_count": 40,
   "id": "d88dfc2d-79f7-432e-a01c-b54f143484c0",
   "metadata": {},
   "outputs": [
    {
     "name": "stdout",
     "output_type": "stream",
     "text": [
      "True\n"
     ]
    }
   ],
   "source": [
    "def palindrome(s):\n",
    "    s1=\"\".join(reversed(s))\n",
    "    return s1==s\n",
    "print(palindrome(\"radar\"))"
   ]
  },
  {
   "cell_type": "code",
   "execution_count": null,
   "id": "eb08837e-66ee-4675-a3f5-dfe993e64c01",
   "metadata": {},
   "outputs": [],
   "source": [
    "3. Capitalize the first letter of each word in the string \"hello world\""
   ]
  },
  {
   "cell_type": "code",
   "execution_count": 41,
   "id": "cfcf9af7-1080-45f7-9f89-5d8ca94196d9",
   "metadata": {},
   "outputs": [
    {
     "data": {
      "text/plain": [
       "'Hello World'"
      ]
     },
     "execution_count": 41,
     "metadata": {},
     "output_type": "execute_result"
    }
   ],
   "source": [
    "s=\"hello world\"\n",
    "ans=s.title()\n",
    "ans"
   ]
  },
  {
   "cell_type": "code",
   "execution_count": null,
   "id": "29a0a660-f972-4987-9017-781c72eecb20",
   "metadata": {},
   "outputs": [],
   "source": [
    "4. Find the first non-repeated character in the string \"abacddbec\"."
   ]
  },
  {
   "cell_type": "code",
   "execution_count": null,
   "id": "79b69256-beb4-4077-a0d0-456a7327bb7f",
   "metadata": {},
   "outputs": [],
   "source": [
    "5. Convert the string \"123\" to an integer without using built-in conversion functions."
   ]
  },
  {
   "cell_type": "code",
   "execution_count": 42,
   "id": "8f2eb5af-f275-4adb-9c4a-e55f3b322a52",
   "metadata": {},
   "outputs": [
    {
     "data": {
      "text/plain": [
       "123"
      ]
     },
     "execution_count": 42,
     "metadata": {},
     "output_type": "execute_result"
    }
   ],
   "source": [
    "s = \"123\"\n",
    "result = 0\n",
    "for char in s:\n",
    "    result = result * 10 + (ord(char) - ord('0'))\n",
    "result"
   ]
  },
  {
   "cell_type": "code",
   "execution_count": null,
   "id": "2f207d25-b894-4987-9513-1b64d8aa9ee4",
   "metadata": {},
   "outputs": [],
   "source": [
    "6. Create a function that checks if a string is an anagram of another string."
   ]
  },
  {
   "cell_type": "code",
   "execution_count": 43,
   "id": "ee35813f-2d09-4f1e-8d12-3458640b99cd",
   "metadata": {},
   "outputs": [
    {
     "name": "stdout",
     "output_type": "stream",
     "text": [
      "True\n"
     ]
    }
   ],
   "source": [
    "def anagram(a,b):\n",
    "    return ''.join(sorted(a))==''.join(sorted(b))\n",
    "\n",
    "print(anagram(\"litsen\",\"silent\"))"
   ]
  },
  {
   "cell_type": "code",
   "execution_count": null,
   "id": "8d344f88-2d1b-42a3-94a4-81ffd3bc3cfe",
   "metadata": {},
   "outputs": [],
   "source": [
    "7. Remove vowels from the string \"beautiful day\"."
   ]
  },
  {
   "cell_type": "code",
   "execution_count": 44,
   "id": "e5485eb3-f966-4e0a-8190-6c604221f84d",
   "metadata": {},
   "outputs": [
    {
     "name": "stdout",
     "output_type": "stream",
     "text": [
      "btfl dy\n"
     ]
    }
   ],
   "source": [
    "s = \"beautiful day\"\n",
    "vowels = \"aeiouAEIOU\"\n",
    "result = \"\"\n",
    "\n",
    "for char in s:\n",
    "    if char not in vowels:\n",
    "        result += char\n",
    "\n",
    "print(result)"
   ]
  },
  {
   "cell_type": "code",
   "execution_count": null,
   "id": "e7ae0cdc-c483-476b-b62a-bdd14e6885ff",
   "metadata": {},
   "outputs": [],
   "source": [
    "8. Find the longest word in the string \"hello world programming\" and return its length."
   ]
  },
  {
   "cell_type": "code",
   "execution_count": 45,
   "id": "0d6ef652-dec1-4b53-9228-69efe019b256",
   "metadata": {},
   "outputs": [
    {
     "data": {
      "text/plain": [
       "11"
      ]
     },
     "execution_count": 45,
     "metadata": {},
     "output_type": "execute_result"
    }
   ],
   "source": [
    "s= \"hello world programming\"\n",
    "words=s.split()\n",
    "longest=0\n",
    "for word in words: \n",
    "    if(len(word)>longest):\n",
    "        longest=len(word)\n",
    "longest"
   ]
  },
  {
   "cell_type": "code",
   "execution_count": null,
   "id": "1a83d5a4-606e-4392-9fb2-10a4134bc83c",
   "metadata": {},
   "outputs": [],
   "source": [
    "9. Convert the string \"hello_world\" into CamelCase (\"HelloWorld\")."
   ]
  },
  {
   "cell_type": "code",
   "execution_count": null,
   "id": "e90aaf25-e947-4f49-b373-e19a58f5efca",
   "metadata": {},
   "outputs": [],
   "source": [
    "10. Encode the string \"hello\" by shifting each letter by 2 positions in the alphabet (\"jgnnq\")."
   ]
  },
  {
   "cell_type": "code",
   "execution_count": null,
   "id": "c647e4db-7b94-4113-a26c-cb34e9f0d8b2",
   "metadata": {},
   "outputs": [],
   "source": [
    "11. Reverse the words in the sentence \"Python is great\" so the sentence becomes \"great is Python\""
   ]
  },
  {
   "cell_type": "code",
   "execution_count": 46,
   "id": "6b1706a1-0efd-44dd-b184-8da60d2ee5b0",
   "metadata": {},
   "outputs": [
    {
     "data": {
      "text/plain": [
       "'great is Python'"
      ]
     },
     "execution_count": 46,
     "metadata": {},
     "output_type": "execute_result"
    }
   ],
   "source": [
    "s=\"Python is great\"\n",
    "new=' '.join(s.split()[::-1])\n",
    "new"
   ]
  },
  {
   "cell_type": "code",
   "execution_count": null,
   "id": "9d71e324-5df1-44c7-bea1-aa3433bfef10",
   "metadata": {},
   "outputs": [],
   "source": [
    "12. Check if the string \"radar\" is a palindrome."
   ]
  },
  {
   "cell_type": "code",
   "execution_count": 47,
   "id": "e85f3906-4a3a-4a94-864c-58d9b4d42a41",
   "metadata": {},
   "outputs": [
    {
     "name": "stdout",
     "output_type": "stream",
     "text": [
      "True\n"
     ]
    }
   ],
   "source": [
    "def palindrome(s):\n",
    "    s1=\"\".join(reversed(s))\n",
    "    return s1==s\n",
    "print(palindrome(\"radar\"))"
   ]
  },
  {
   "cell_type": "code",
   "execution_count": null,
   "id": "75acabd3-1ce8-4e4e-967c-4252f5001ddb",
   "metadata": {},
   "outputs": [],
   "source": [
    "13. Count the number of vowels in \"Hello World\""
   ]
  },
  {
   "cell_type": "code",
   "execution_count": 48,
   "id": "e2af5780-780f-4dea-b9bb-b807581c3f41",
   "metadata": {},
   "outputs": [
    {
     "data": {
      "text/plain": [
       "3"
      ]
     },
     "execution_count": 48,
     "metadata": {},
     "output_type": "execute_result"
    }
   ],
   "source": [
    "s=\"Hello World\"\n",
    "v=\"aeiouAEIOU\"\n",
    "c=0\n",
    "for i in s:\n",
    "    if i in v:\n",
    "        c=c+1\n",
    "\n",
    "c"
   ]
  },
  {
   "cell_type": "code",
   "execution_count": null,
   "id": "cf6f414c-bf16-41ff-9322-94b1d16b7bd9",
   "metadata": {},
   "outputs": [],
   "source": [
    "14. Capitalize the first letter of each word in \"hello world\""
   ]
  },
  {
   "cell_type": "code",
   "execution_count": 49,
   "id": "448322c4-8aa4-4f74-887f-e83e4bd2c720",
   "metadata": {},
   "outputs": [
    {
     "data": {
      "text/plain": [
       "'Hello World'"
      ]
     },
     "execution_count": 49,
     "metadata": {},
     "output_type": "execute_result"
    }
   ],
   "source": [
    "s=\"hello world\"\n",
    "ans=s.title()\n",
    "ans"
   ]
  },
  {
   "cell_type": "code",
   "execution_count": null,
   "id": "4e74bb88-c925-40de-a522-a57fbde648a7",
   "metadata": {},
   "outputs": [],
   "source": [
    "15. Convert the string \"100\" to an integer without using built-in conversions."
   ]
  },
  {
   "cell_type": "code",
   "execution_count": 50,
   "id": "fd6c85c0-c53a-4eef-8a9f-7e960da3ea66",
   "metadata": {},
   "outputs": [
    {
     "data": {
      "text/plain": [
       "100"
      ]
     },
     "execution_count": 50,
     "metadata": {},
     "output_type": "execute_result"
    }
   ],
   "source": [
    "a=\"100\"\n",
    "result = 0\n",
    "for char in a:\n",
    "    result = result * 10 + (ord(char) - ord('0'))\n",
    "result"
   ]
  },
  {
   "cell_type": "code",
   "execution_count": null,
   "id": "65ff2df7-829b-43a3-9ec2-69543715d2f5",
   "metadata": {},
   "outputs": [],
   "source": [
    "16. Find the longest word in the string \"Python is simple and effective\" and print it."
   ]
  },
  {
   "cell_type": "code",
   "execution_count": 51,
   "id": "dd714bc0-f7e3-4a4e-9642-f96f5ad0463f",
   "metadata": {},
   "outputs": [
    {
     "data": {
      "text/plain": [
       "'effective'"
      ]
     },
     "execution_count": 51,
     "metadata": {},
     "output_type": "execute_result"
    }
   ],
   "source": [
    "s= \"Python is simple and effective\"\n",
    "words=s.split()\n",
    "longest=\"\"\n",
    "for word in words: \n",
    "    if(len(word)>len(longest)):\n",
    "        longest=word\n",
    "longest"
   ]
  },
  {
   "cell_type": "code",
   "execution_count": null,
   "id": "fc80140c-d239-4fa3-bd76-2409e2a4570f",
   "metadata": {},
   "outputs": [],
   "source": [
    "17. Replace every third character in \"abcdefghijk\" with an asterisk (*)."
   ]
  },
  {
   "cell_type": "code",
   "execution_count": null,
   "id": "0ce43412-88e4-471d-879f-7a80882d0486",
   "metadata": {},
   "outputs": [],
   "source": [
    "18. Check if all characters in the string \"abc123\" are alphanumeric."
   ]
  },
  {
   "cell_type": "code",
   "execution_count": 52,
   "id": "0419f792-7193-4e31-878a-da95aa3c1194",
   "metadata": {},
   "outputs": [
    {
     "data": {
      "text/plain": [
       "True"
      ]
     },
     "execution_count": 52,
     "metadata": {},
     "output_type": "execute_result"
    }
   ],
   "source": [
    "r = \"abc123\"\n",
    "ans = r.isalnum()\n",
    "ans"
   ]
  },
  {
   "cell_type": "code",
   "execution_count": null,
   "id": "2ce9c6ae-db64-43a6-bdd1-5a88d1eaf0c3",
   "metadata": {},
   "outputs": [],
   "source": [
    "19. Create a string from the characters at even indices of \"abcdefghi\"."
   ]
  },
  {
   "cell_type": "code",
   "execution_count": 53,
   "id": "551f533a-d6f7-4056-8bdd-84f0c80c534b",
   "metadata": {},
   "outputs": [
    {
     "data": {
      "text/plain": [
       "'acegi'"
      ]
     },
     "execution_count": 53,
     "metadata": {},
     "output_type": "execute_result"
    }
   ],
   "source": [
    "a = \"abcdefghi\"\n",
    "even_index = a[::2]\n",
    "even_index"
   ]
  },
  {
   "cell_type": "code",
   "execution_count": null,
   "id": "2312cb21-6bde-4f01-907f-f997d944188b",
   "metadata": {},
   "outputs": [],
   "source": [
    "20. Encode \"hello\" by adding 1 to the ASCII value of each character."
   ]
  },
  {
   "cell_type": "code",
   "execution_count": null,
   "id": "10f1965f-22c5-4b84-a093-9c790cfbf458",
   "metadata": {},
   "outputs": [],
   "source": []
  },
  {
   "cell_type": "code",
   "execution_count": null,
   "id": "3c9f8491-43ef-4870-86f4-7a87bb3a67c6",
   "metadata": {},
   "outputs": [],
   "source": [
    "Practice problems on type casting. \n",
    "\n",
    "Problems for practice of converting between different data types, such as integers, floats, strings, and lists.\n"
   ]
  },
  {
   "cell_type": "code",
   "execution_count": null,
   "id": "53137414-dda4-4801-95f6-186402e9997d",
   "metadata": {},
   "outputs": [],
   "source": [
    "1. Convert the list of strings [\"1\", \"2\", \"3\"] into a list of integers."
   ]
  },
  {
   "cell_type": "code",
   "execution_count": 2,
   "id": "fef227ec-37a0-4341-ab83-280856244e11",
   "metadata": {},
   "outputs": [
    {
     "data": {
      "text/plain": [
       "[1, 2, 3]"
      ]
     },
     "execution_count": 2,
     "metadata": {},
     "output_type": "execute_result"
    }
   ],
   "source": [
    "import numpy as np\n",
    "l1=[\"1\", \"2\", \"3\"]\n",
    "l2=np.array(l1,dtype=int)\n",
    "l3=list(l2)\n",
    "l3"
   ]
  },
  {
   "cell_type": "code",
   "execution_count": null,
   "id": "0d60bd27-feb8-4d52-8359-bb2dc9377d9e",
   "metadata": {},
   "outputs": [],
   "source": [
    "2. Given a float 123.456, create a string \"123_456\" where the decimal point is replaced with an underscore."
   ]
  },
  {
   "cell_type": "code",
   "execution_count": null,
   "id": "b8d78a97-33b0-4ac0-8226-bc66322efd5b",
   "metadata": {},
   "outputs": [],
   "source": [
    "s = 123.456\n",
    "ans = str(s).replace('.', '_')\n",
    "print(ans)"
   ]
  },
  {
   "cell_type": "code",
   "execution_count": null,
   "id": "fbfbb20c-58a2-413c-b7a9-525e21b61ad5",
   "metadata": {},
   "outputs": [],
   "source": [
    "3. Turn the tuple (1, 2, 3) into a string \"123\"."
   ]
  },
  {
   "cell_type": "code",
   "execution_count": 8,
   "id": "ebe43f79-1f57-4d06-9194-691be7e41450",
   "metadata": {},
   "outputs": [
    {
     "data": {
      "text/plain": [
       "'123'"
      ]
     },
     "execution_count": 8,
     "metadata": {},
     "output_type": "execute_result"
    }
   ],
   "source": [
    "num_tuple = (1, 2, 3)\n",
    "result_string = ''.join(map(str, num_tuple))\n",
    "result_string"
   ]
  },
  {
   "cell_type": "code",
   "execution_count": null,
   "id": "97428a3b-83c1-4134-bc2a-0985a20edfb4",
   "metadata": {},
   "outputs": [],
   "source": [
    "4. Convert \"1010\" (binary string) to an integer assuming it's a binary number."
   ]
  },
  {
   "cell_type": "code",
   "execution_count": 9,
   "id": "68bac2e1-537b-41d5-93ae-6b2b6305b003",
   "metadata": {},
   "outputs": [
    {
     "data": {
      "text/plain": [
       "10"
      ]
     },
     "execution_count": 9,
     "metadata": {},
     "output_type": "execute_result"
    }
   ],
   "source": [
    "a = \"1010\"\n",
    "ans = int(a, 2)\n",
    "ans"
   ]
  },
  {
   "cell_type": "code",
   "execution_count": null,
   "id": "a90074db-00d5-4d4b-8013-067af2afddc6",
   "metadata": {},
   "outputs": [],
   "source": [
    "5. Create a float from the string \"123.456\" and then round it to 2 decimal places."
   ]
  },
  {
   "cell_type": "code",
   "execution_count": 10,
   "id": "7c5409fe-5f71-4bf8-ab65-0051e3a3642a",
   "metadata": {},
   "outputs": [
    {
     "data": {
      "text/plain": [
       "123.46"
      ]
     },
     "execution_count": 10,
     "metadata": {},
     "output_type": "execute_result"
    }
   ],
   "source": [
    "ab = float(\"123.456\")\n",
    "\n",
    "ans= round(ab, 2)\n",
    "ans"
   ]
  },
  {
   "cell_type": "code",
   "execution_count": null,
   "id": "dad650b7-1b61-490d-a7d0-f9190754b6a6",
   "metadata": {},
   "outputs": [],
   "source": [
    "6. Convert a single-character string 'a' to its corresponding ASCII value."
   ]
  },
  {
   "cell_type": "code",
   "execution_count": 12,
   "id": "2653b463-4612-4725-b555-81a5bcc1ac48",
   "metadata": {},
   "outputs": [
    {
     "name": "stdout",
     "output_type": "stream",
     "text": [
      "97\n"
     ]
    }
   ],
   "source": [
    "print(ord('a'))"
   ]
  },
  {
   "cell_type": "code",
   "execution_count": null,
   "id": "ecac7bcc-a5c4-4c73-b110-d8ef106e1d9b",
   "metadata": {},
   "outputs": [],
   "source": [
    "7. Given an integer 65, convert it to a string that represents its ASCII character."
   ]
  },
  {
   "cell_type": "code",
   "execution_count": 14,
   "id": "19ae4354-b1d1-420a-a51b-6ad7db6b1a1c",
   "metadata": {},
   "outputs": [
    {
     "name": "stdout",
     "output_type": "stream",
     "text": [
      "A\n"
     ]
    }
   ],
   "source": [
    "print(chr(65))"
   ]
  },
  {
   "cell_type": "code",
   "execution_count": null,
   "id": "cf6b182b-8dbb-46d9-841a-2a84fe4e3e95",
   "metadata": {},
   "outputs": [],
   "source": [
    "8. Change a hexadecimal string '0x1a' to an integer."
   ]
  },
  {
   "cell_type": "code",
   "execution_count": 15,
   "id": "6bd6a9ec-6888-4256-8b6e-db48a0446e8a",
   "metadata": {},
   "outputs": [
    {
     "data": {
      "text/plain": [
       "26"
      ]
     },
     "execution_count": 15,
     "metadata": {},
     "output_type": "execute_result"
    }
   ],
   "source": [
    "ans=int('0x1a', 16)\n",
    "ans"
   ]
  },
  {
   "cell_type": "code",
   "execution_count": null,
   "id": "b7eb44f2-519e-445a-9eb9-56f0f160a29f",
   "metadata": {},
   "outputs": [],
   "source": [
    "9. Given the list [1, 2, 3], create a string representation of the list, then convert it back to a list without using eval()."
   ]
  },
  {
   "cell_type": "code",
   "execution_count": null,
   "id": "d1a54414-68f1-4946-bfe0-1ae7c09fac0f",
   "metadata": {},
   "outputs": [],
   "source": [
    "10. Convert the string representation of a complex number \"1+2j\" to a complex number object."
   ]
  },
  {
   "cell_type": "code",
   "execution_count": 16,
   "id": "5675a22f-60a0-4c08-86ca-b74303bea549",
   "metadata": {},
   "outputs": [
    {
     "data": {
      "text/plain": [
       "(1+2j)"
      ]
     },
     "execution_count": 16,
     "metadata": {},
     "output_type": "execute_result"
    }
   ],
   "source": [
    "a=complex(\"1+2j\")\n",
    "a"
   ]
  },
  {
   "cell_type": "code",
   "execution_count": null,
   "id": "6cf4b458-a129-4e27-9b33-52e413aac071",
   "metadata": {},
   "outputs": [],
   "source": [
    "11. Convert the string \"123.456\" to an integer."
   ]
  },
  {
   "cell_type": "code",
   "execution_count": 19,
   "id": "2a84ec39-4cf3-45c7-96fe-96f14c0d2e50",
   "metadata": {},
   "outputs": [
    {
     "data": {
      "text/plain": [
       "123"
      ]
     },
     "execution_count": 19,
     "metadata": {},
     "output_type": "execute_result"
    }
   ],
   "source": [
    "a = float(\"123.456\")\n",
    "b = int(a)\n",
    "b"
   ]
  },
  {
   "cell_type": "code",
   "execution_count": null,
   "id": "64d6dd13-ee27-4245-941b-421f49a62694",
   "metadata": {},
   "outputs": [],
   "source": [
    "12. Given a float 123.456, create a string formatted as \"123_456\" where the decimal point is replaced by an underscore."
   ]
  },
  {
   "cell_type": "code",
   "execution_count": 20,
   "id": "e221276b-90a4-4680-b390-ecd083980e9d",
   "metadata": {},
   "outputs": [
    {
     "name": "stdout",
     "output_type": "stream",
     "text": [
      "123_456\n"
     ]
    }
   ],
   "source": [
    "s = 123.456\n",
    "ans = str(s).replace('.', '_')\n",
    "print(ans)"
   ]
  },
  {
   "cell_type": "code",
   "execution_count": null,
   "id": "1869b0be-a6b8-40b8-8209-209168357672",
   "metadata": {},
   "outputs": [],
   "source": [
    "13. Convert \"True\" and \"False\" strings to their boolean counterparts without using if-else."
   ]
  },
  {
   "cell_type": "code",
   "execution_count": null,
   "id": "287de88a-4ea5-4a06-9185-72b803023277",
   "metadata": {},
   "outputs": [],
   "source": [
    "14. Given the list [1, 2, '3', '4'], convert all elements to integers."
   ]
  },
  {
   "cell_type": "code",
   "execution_count": 21,
   "id": "384e6b8a-1df2-493d-a7ad-62133d47ad60",
   "metadata": {},
   "outputs": [
    {
     "name": "stdout",
     "output_type": "stream",
     "text": [
      "[1, 2, 3, 4]\n"
     ]
    }
   ],
   "source": [
    "a = [1, 2, '3', '4']\n",
    "converted_list = [int(element) for element in a]\n",
    "print(converted_list)"
   ]
  },
  {
   "cell_type": "code",
   "execution_count": null,
   "id": "07690a5f-e3bb-406c-8f79-abbfda7efee3",
   "metadata": {},
   "outputs": [],
   "source": [
    "15. Safely convert \"123abc\" to an integer without raising an error."
   ]
  },
  {
   "cell_type": "code",
   "execution_count": 54,
   "id": "5f89dcfb-9f66-4d01-a895-8aa3e1b172a1",
   "metadata": {},
   "outputs": [
    {
     "ename": "ValueError",
     "evalue": "invalid literal for int() with base 10: '123abc'",
     "output_type": "error",
     "traceback": [
      "\u001b[1;31m---------------------------------------------------------------------------\u001b[0m",
      "\u001b[1;31mValueError\u001b[0m                                Traceback (most recent call last)",
      "Cell \u001b[1;32mIn[54], line 1\u001b[0m\n\u001b[1;32m----> 1\u001b[0m a\u001b[38;5;241m=\u001b[39m\u001b[38;5;28mint\u001b[39m(\u001b[38;5;124m\"\u001b[39m\u001b[38;5;124m123abc\u001b[39m\u001b[38;5;124m\"\u001b[39m)\n\u001b[0;32m      2\u001b[0m a\n",
      "\u001b[1;31mValueError\u001b[0m: invalid literal for int() with base 10: '123abc'"
     ]
    }
   ],
   "source": [
    "a=int(\"123abc\")\n",
    "a"
   ]
  },
  {
   "cell_type": "code",
   "execution_count": null,
   "id": "ba90fa93-ce3b-4ceb-81ae-738837e06d6d",
   "metadata": {},
   "outputs": [],
   "source": [
    "16. Convert the hexadecimal string \"1a\" to an integer and then to a binary string."
   ]
  },
  {
   "cell_type": "code",
   "execution_count": null,
   "id": "f94d0cee-99d5-4cff-8630-943ac4df150d",
   "metadata": {},
   "outputs": [],
   "source": [
    "17. Given a boolean True, convert it to an integer, then to a string, and finally to a float."
   ]
  },
  {
   "cell_type": "code",
   "execution_count": 26,
   "id": "ec7f4b08-fb00-4771-a580-6c394934d389",
   "metadata": {},
   "outputs": [
    {
     "data": {
      "text/plain": [
       "1.0"
      ]
     },
     "execution_count": 26,
     "metadata": {},
     "output_type": "execute_result"
    }
   ],
   "source": [
    "ans=float(str(int(True)))\n",
    "ans"
   ]
  },
  {
   "cell_type": "code",
   "execution_count": null,
   "id": "4fff6cef-12d5-4489-8267-d7fe9bd00f5f",
   "metadata": {},
   "outputs": [],
   "source": [
    "18. Convert the tuple (1, 2, 3) to a list, then to a string, and finally back to a tuple."
   ]
  },
  {
   "cell_type": "code",
   "execution_count": 38,
   "id": "bbcba1eb-1ab4-4aef-8de3-7354b44be7da",
   "metadata": {},
   "outputs": [
    {
     "data": {
      "text/plain": [
       "(1, 2, 3)"
      ]
     },
     "execution_count": 38,
     "metadata": {},
     "output_type": "execute_result"
    }
   ],
   "source": [
    "a=tuple(eval(str(list(a))))\n",
    "a"
   ]
  },
  {
   "cell_type": "code",
   "execution_count": null,
   "id": "716e44a4-72a2-4dff-ad33-cf70d0a3a261",
   "metadata": {},
   "outputs": [],
   "source": [
    "19. Given a float 123.456, format it as a string with only one decimal place, without rounding."
   ]
  },
  {
   "cell_type": "code",
   "execution_count": 44,
   "id": "fe2d4f4b-1b1e-4e28-acf4-345e17f65dfe",
   "metadata": {},
   "outputs": [],
   "source": [
    "20. Extract the integer part and the decimal part of 123.456 as separate integers."
   ]
  },
  {
   "cell_type": "code",
   "execution_count": null,
   "id": "dbd82c8d-460f-42e6-af9b-b257bb87bba4",
   "metadata": {},
   "outputs": [],
   "source": []
  }
 ],
 "metadata": {
  "kernelspec": {
   "display_name": "Python 3 (ipykernel)",
   "language": "python",
   "name": "python3"
  },
  "language_info": {
   "codemirror_mode": {
    "name": "ipython",
    "version": 3
   },
   "file_extension": ".py",
   "mimetype": "text/x-python",
   "name": "python",
   "nbconvert_exporter": "python",
   "pygments_lexer": "ipython3",
   "version": "3.11.4"
  }
 },
 "nbformat": 4,
 "nbformat_minor": 5
}
